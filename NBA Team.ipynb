{
 "cells": [
  {
   "cell_type": "code",
   "execution_count": 1,
   "metadata": {},
   "outputs": [],
   "source": [
    "import pandas as pd\n",
    "from gurobipy import *\n",
    "import csv"
   ]
  },
  {
   "cell_type": "markdown",
   "metadata": {},
   "source": [
    "Create dictionary where key = players, value = [calculated score, salary, PG, SG, SF, PF, C]"
   ]
  },
  {
   "cell_type": "code",
   "execution_count": 2,
   "metadata": {},
   "outputs": [],
   "source": [
    "nbadict = {}\n",
    "nbaplayers = []\n",
    "\n",
    "firstline = True\n",
    "\n",
    "with open(\"nbaplayerstats.csv\") as csv_file:\n",
    "    csv_reader = csv.reader(csv_file, delimiter=',')\n",
    "    for row in csv_reader:\n",
    "        if firstline:\n",
    "            firstline = False\n",
    "            continue\n",
    "            \n",
    "        name = row[1]\n",
    "        \n",
    "        # create list of nba players\n",
    "        nbaplayers.append(row[1])\n",
    "        \n",
    "        # dictionary entry - player: [calculated score, salary, PG, SG, SF, PF, C]\n",
    "        calc_score = int(row[17])\n",
    "        salary = int(float((row[9])))\n",
    "        PG = int(row[18])\n",
    "        SG = int(row[19])\n",
    "        SF = int(row[20])\n",
    "        PF = int(row[21])\n",
    "        C = int(row[22])\n",
    "        nbadict[name] = [calc_score, salary, PG, SG, SF, PF, C]"
   ]
  },
  {
   "cell_type": "markdown",
   "metadata": {},
   "source": [
    "Create the model"
   ]
  },
  {
   "cell_type": "code",
   "execution_count": 3,
   "metadata": {},
   "outputs": [
    {
     "name": "stdout",
     "output_type": "stream",
     "text": [
      "Using license file /Users/angela/gurobi.lic\n",
      "Academic license - for non-commercial use only\n"
     ]
    }
   ],
   "source": [
    "m = Model()"
   ]
  },
  {
   "cell_type": "markdown",
   "metadata": {},
   "source": [
    "Create binary variables to determine if a player is selected on the team or not"
   ]
  },
  {
   "cell_type": "code",
   "execution_count": 4,
   "metadata": {},
   "outputs": [],
   "source": [
    "x = m.addVars(nbaplayers, \n",
    "              lb = 0,\n",
    "              ub = 1,\n",
    "              vtype = GRB.INTEGER)"
   ]
  },
  {
   "cell_type": "markdown",
   "metadata": {},
   "source": [
    "Create the constraints: 3 of each position (PG, SG, SF, PF, C)"
   ]
  },
  {
   "cell_type": "code",
   "execution_count": 5,
   "metadata": {},
   "outputs": [
    {
     "data": {
      "text/plain": [
       "<gurobi.Constr *Awaiting Model Update*>"
      ]
     },
     "execution_count": 5,
     "metadata": {},
     "output_type": "execute_result"
    }
   ],
   "source": [
    "# 3 PG's must be on the team\n",
    "m.addConstr((quicksum(x[i]*nbadict[i][2] for i in nbaplayers) <= 3))\n",
    "\n",
    "# 3 SG's must be on the team\n",
    "m.addConstr((quicksum(x[i]*nbadict[i][3] for i in nbaplayers) <= 3))\n",
    "\n",
    "# 3 SF's must be on the team\n",
    "m.addConstr((quicksum(x[i]*nbadict[i][4] for i in nbaplayers) <= 3))\n",
    "\n",
    "# 3 PF'S must be on the team\n",
    "m.addConstr((quicksum(x[i]*nbadict[i][5] for i in nbaplayers) <= 3))\n",
    "\n",
    "# 3 C's must be on the team\n",
    "m.addConstr((quicksum(x[i]*nbadict[i][6] for i in nbaplayers) <= 3))"
   ]
  },
  {
   "cell_type": "code",
   "execution_count": 6,
   "metadata": {},
   "outputs": [
    {
     "data": {
      "text/plain": [
       "<gurobi.Constr *Awaiting Model Update*>"
      ]
     },
     "execution_count": 6,
     "metadata": {},
     "output_type": "execute_result"
    }
   ],
   "source": [
    "m.addConstr((quicksum(x[i] for i in nbaplayers) <= 15))"
   ]
  },
  {
   "cell_type": "markdown",
   "metadata": {},
   "source": [
    "Create the constraint that all player salary must be less than the luxury tax threshold"
   ]
  },
  {
   "cell_type": "code",
   "execution_count": 7,
   "metadata": {},
   "outputs": [
    {
     "data": {
      "text/plain": [
       "<gurobi.Constr *Awaiting Model Update*>"
      ]
     },
     "execution_count": 7,
     "metadata": {},
     "output_type": "execute_result"
    }
   ],
   "source": [
    "luxtax = 132627000\n",
    "m.addConstr((quicksum(x[i]*nbadict[i][1] for i in nbaplayers) <= luxtax))"
   ]
  },
  {
   "cell_type": "markdown",
   "metadata": {},
   "source": [
    "Maximize overall team rating (sum of individual calculated scores)"
   ]
  },
  {
   "cell_type": "code",
   "execution_count": 8,
   "metadata": {},
   "outputs": [],
   "source": [
    "m.setObjective(quicksum(x[i]*nbadict[i][0] for i in nbaplayers), GRB.MAXIMIZE)"
   ]
  },
  {
   "cell_type": "code",
   "execution_count": 9,
   "metadata": {},
   "outputs": [
    {
     "name": "stdout",
     "output_type": "stream",
     "text": [
      "Gurobi Optimizer version 9.0.0 build v9.0.0rc2 (mac64)\n",
      "Optimize a model with 7 rows, 267 columns and 798 nonzeros\n",
      "Model fingerprint: 0xc122f71a\n",
      "Variable types: 0 continuous, 267 integer (0 binary)\n",
      "Coefficient statistics:\n",
      "  Matrix range     [1e+00, 4e+07]\n",
      "  Objective range  [7e+00, 2e+01]\n",
      "  Bounds range     [1e+00, 1e+00]\n",
      "  RHS range        [3e+00, 1e+08]\n",
      "Found heuristic solution: objective 118.0000000\n",
      "Presolve removed 0 rows and 12 columns\n",
      "Presolve time: 0.00s\n",
      "Presolved: 7 rows, 255 columns, 762 nonzeros\n",
      "Variable types: 0 continuous, 255 integer (252 binary)\n",
      "\n",
      "Root relaxation: objective 2.663656e+02, 7 iterations, 0.00 seconds\n",
      "\n",
      "    Nodes    |    Current Node    |     Objective Bounds      |     Work\n",
      " Expl Unexpl |  Obj  Depth IntInf | Incumbent    BestBd   Gap | It/Node Time\n",
      "\n",
      "     0     0  266.36558    0    2  118.00000  266.36558   126%     -    0s\n",
      "H    0     0                     266.0000000  266.36558  0.14%     -    0s\n",
      "     0     0  266.36558    0    2  266.00000  266.36558  0.14%     -    0s\n",
      "\n",
      "Explored 1 nodes (7 simplex iterations) in 0.09 seconds\n",
      "Thread count was 4 (of 4 available processors)\n",
      "\n",
      "Solution count 2: 266 118 \n",
      "\n",
      "Optimal solution found (tolerance 1.00e-04)\n",
      "Best objective 2.660000000000e+02, best bound 2.660000000000e+02, gap 0.0000%\n"
     ]
    }
   ],
   "source": [
    "m.optimize()"
   ]
  },
  {
   "cell_type": "markdown",
   "metadata": {},
   "source": [
    "Write output to .csv file"
   ]
  },
  {
   "cell_type": "code",
   "execution_count": 10,
   "metadata": {},
   "outputs": [
    {
     "name": "stdout",
     "output_type": "stream",
     "text": [
      "25842697\n",
      "33526057\n",
      "66268057\n",
      "72541057\n",
      "78933817\n",
      "89533817\n",
      "91179174\n",
      "99179174\n",
      "102708729\n",
      "106162809\n",
      "110929809\n",
      "124970905\n",
      "126261865\n",
      "128209945\n",
      "130709945\n"
     ]
    }
   ],
   "source": [
    "positions = {0: \"PG\", 1: \"SG\", 2: \"SF\", 3: \"PF\", 4: \"C\"} \n",
    "\n",
    "with open('out.csv', mode = 'w') as output:\n",
    "    writer = csv.writer(output)\n",
    "    writer.writerow([\"Player\", \"Calculated Score\", \"Position\", \"Salary\"])\n",
    "    for i in nbaplayers:\n",
    "        x1 = x[i].X\n",
    "        if x1 == 1:\n",
    "            index = 0\n",
    "            for j in range(5):\n",
    "                if nbadict[i][j+2] == 1:\n",
    "                    index = j\n",
    "            writer.writerow([i, nbadict[i][0], positions[index], nbadict[i][1]])"
   ]
  }
 ],
 "metadata": {
  "kernelspec": {
   "display_name": "Python 3",
   "language": "python",
   "name": "python3"
  },
  "language_info": {
   "codemirror_mode": {
    "name": "ipython",
    "version": 3
   },
   "file_extension": ".py",
   "mimetype": "text/x-python",
   "name": "python",
   "nbconvert_exporter": "python",
   "pygments_lexer": "ipython3",
   "version": "3.6.8"
  }
 },
 "nbformat": 4,
 "nbformat_minor": 2
}
